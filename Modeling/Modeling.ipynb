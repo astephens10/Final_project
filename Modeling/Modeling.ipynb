{
 "cells": [
  {
   "cell_type": "code",
   "execution_count": 17,
   "id": "714ad8c8",
   "metadata": {},
   "outputs": [],
   "source": [
    "import numpy as np \n",
    "import pandas as pd \n",
    "import matplotlib.pyplot as plt\n",
    "import seaborn as sns\n",
    "\n",
    "from sklearn.model_selection import train_test_split\n",
    "from sklearn.model_selection import cross_val_score\n",
    "from sklearn.model_selection import GridSearchCV\n",
    "from sklearn.pipeline import make_pipeline\n",
    "from sklearn.linear_model import LogisticRegression\n",
    "from sklearn.neighbors import KNeighborsClassifier\n",
    "from sklearn.svm import SVC\n",
    "from sklearn.ensemble import RandomForestClassifier\n",
    "import xgboost as xgb\n",
    "from sklearn.metrics import confusion_matrix, classification_report\n",
    "from sklearn.preprocessing import StandardScaler\n",
    "from sklearn.metrics import plot_confusion_matrix"
   ]
  },
  {
   "cell_type": "code",
   "execution_count": 2,
   "id": "51938985",
   "metadata": {},
   "outputs": [
    {
     "data": {
      "text/plain": [
       "'/Users/andrewstephens/Final_project/Modeling'"
      ]
     },
     "execution_count": 2,
     "metadata": {},
     "output_type": "execute_result"
    }
   ],
   "source": [
    "pwd"
   ]
  },
  {
   "cell_type": "code",
   "execution_count": 3,
   "id": "9be88bd7",
   "metadata": {},
   "outputs": [
    {
     "name": "stdout",
     "output_type": "stream",
     "text": [
      "/Users/andrewstephens/Final_project\n"
     ]
    }
   ],
   "source": [
    "cd .."
   ]
  },
  {
   "cell_type": "code",
   "execution_count": 4,
   "id": "8ce02fa2",
   "metadata": {},
   "outputs": [
    {
     "data": {
      "text/html": [
       "<div>\n",
       "<style scoped>\n",
       "    .dataframe tbody tr th:only-of-type {\n",
       "        vertical-align: middle;\n",
       "    }\n",
       "\n",
       "    .dataframe tbody tr th {\n",
       "        vertical-align: top;\n",
       "    }\n",
       "\n",
       "    .dataframe thead th {\n",
       "        text-align: right;\n",
       "    }\n",
       "</style>\n",
       "<table border=\"1\" class=\"dataframe\">\n",
       "  <thead>\n",
       "    <tr style=\"text-align: right;\">\n",
       "      <th></th>\n",
       "      <th>age</th>\n",
       "      <th>campaign</th>\n",
       "      <th>pdays</th>\n",
       "      <th>previous</th>\n",
       "      <th>cons.price.idx</th>\n",
       "      <th>cons.conf.idx</th>\n",
       "      <th>nr.employed</th>\n",
       "      <th>y</th>\n",
       "      <th>job_admin.</th>\n",
       "      <th>job_blue-collar</th>\n",
       "      <th>...</th>\n",
       "      <th>day_of_week_fri</th>\n",
       "      <th>day_of_week_mon</th>\n",
       "      <th>day_of_week_thu</th>\n",
       "      <th>day_of_week_tue</th>\n",
       "      <th>day_of_week_wed</th>\n",
       "      <th>poutcome_failure</th>\n",
       "      <th>poutcome_nonexistent</th>\n",
       "      <th>poutcome_success</th>\n",
       "      <th>y_no</th>\n",
       "      <th>y_yes</th>\n",
       "    </tr>\n",
       "  </thead>\n",
       "  <tbody>\n",
       "    <tr>\n",
       "      <th>0</th>\n",
       "      <td>56</td>\n",
       "      <td>1</td>\n",
       "      <td>999</td>\n",
       "      <td>0</td>\n",
       "      <td>93.994</td>\n",
       "      <td>-36.4</td>\n",
       "      <td>5191.0</td>\n",
       "      <td>no</td>\n",
       "      <td>0</td>\n",
       "      <td>0</td>\n",
       "      <td>...</td>\n",
       "      <td>0</td>\n",
       "      <td>1</td>\n",
       "      <td>0</td>\n",
       "      <td>0</td>\n",
       "      <td>0</td>\n",
       "      <td>0</td>\n",
       "      <td>1</td>\n",
       "      <td>0</td>\n",
       "      <td>1</td>\n",
       "      <td>0</td>\n",
       "    </tr>\n",
       "    <tr>\n",
       "      <th>1</th>\n",
       "      <td>57</td>\n",
       "      <td>1</td>\n",
       "      <td>999</td>\n",
       "      <td>0</td>\n",
       "      <td>93.994</td>\n",
       "      <td>-36.4</td>\n",
       "      <td>5191.0</td>\n",
       "      <td>no</td>\n",
       "      <td>0</td>\n",
       "      <td>0</td>\n",
       "      <td>...</td>\n",
       "      <td>0</td>\n",
       "      <td>1</td>\n",
       "      <td>0</td>\n",
       "      <td>0</td>\n",
       "      <td>0</td>\n",
       "      <td>0</td>\n",
       "      <td>1</td>\n",
       "      <td>0</td>\n",
       "      <td>1</td>\n",
       "      <td>0</td>\n",
       "    </tr>\n",
       "    <tr>\n",
       "      <th>2</th>\n",
       "      <td>37</td>\n",
       "      <td>1</td>\n",
       "      <td>999</td>\n",
       "      <td>0</td>\n",
       "      <td>93.994</td>\n",
       "      <td>-36.4</td>\n",
       "      <td>5191.0</td>\n",
       "      <td>no</td>\n",
       "      <td>0</td>\n",
       "      <td>0</td>\n",
       "      <td>...</td>\n",
       "      <td>0</td>\n",
       "      <td>1</td>\n",
       "      <td>0</td>\n",
       "      <td>0</td>\n",
       "      <td>0</td>\n",
       "      <td>0</td>\n",
       "      <td>1</td>\n",
       "      <td>0</td>\n",
       "      <td>1</td>\n",
       "      <td>0</td>\n",
       "    </tr>\n",
       "    <tr>\n",
       "      <th>3</th>\n",
       "      <td>40</td>\n",
       "      <td>1</td>\n",
       "      <td>999</td>\n",
       "      <td>0</td>\n",
       "      <td>93.994</td>\n",
       "      <td>-36.4</td>\n",
       "      <td>5191.0</td>\n",
       "      <td>no</td>\n",
       "      <td>1</td>\n",
       "      <td>0</td>\n",
       "      <td>...</td>\n",
       "      <td>0</td>\n",
       "      <td>1</td>\n",
       "      <td>0</td>\n",
       "      <td>0</td>\n",
       "      <td>0</td>\n",
       "      <td>0</td>\n",
       "      <td>1</td>\n",
       "      <td>0</td>\n",
       "      <td>1</td>\n",
       "      <td>0</td>\n",
       "    </tr>\n",
       "    <tr>\n",
       "      <th>4</th>\n",
       "      <td>56</td>\n",
       "      <td>1</td>\n",
       "      <td>999</td>\n",
       "      <td>0</td>\n",
       "      <td>93.994</td>\n",
       "      <td>-36.4</td>\n",
       "      <td>5191.0</td>\n",
       "      <td>no</td>\n",
       "      <td>0</td>\n",
       "      <td>0</td>\n",
       "      <td>...</td>\n",
       "      <td>0</td>\n",
       "      <td>1</td>\n",
       "      <td>0</td>\n",
       "      <td>0</td>\n",
       "      <td>0</td>\n",
       "      <td>0</td>\n",
       "      <td>1</td>\n",
       "      <td>0</td>\n",
       "      <td>1</td>\n",
       "      <td>0</td>\n",
       "    </tr>\n",
       "  </tbody>\n",
       "</table>\n",
       "<p>5 rows × 63 columns</p>\n",
       "</div>"
      ],
      "text/plain": [
       "   age  campaign  pdays  previous  cons.price.idx  cons.conf.idx  nr.employed  \\\n",
       "0   56         1    999         0          93.994          -36.4       5191.0   \n",
       "1   57         1    999         0          93.994          -36.4       5191.0   \n",
       "2   37         1    999         0          93.994          -36.4       5191.0   \n",
       "3   40         1    999         0          93.994          -36.4       5191.0   \n",
       "4   56         1    999         0          93.994          -36.4       5191.0   \n",
       "\n",
       "    y  job_admin.  job_blue-collar  ...  day_of_week_fri  day_of_week_mon  \\\n",
       "0  no           0                0  ...                0                1   \n",
       "1  no           0                0  ...                0                1   \n",
       "2  no           0                0  ...                0                1   \n",
       "3  no           1                0  ...                0                1   \n",
       "4  no           0                0  ...                0                1   \n",
       "\n",
       "   day_of_week_thu  day_of_week_tue  day_of_week_wed  poutcome_failure  \\\n",
       "0                0                0                0                 0   \n",
       "1                0                0                0                 0   \n",
       "2                0                0                0                 0   \n",
       "3                0                0                0                 0   \n",
       "4                0                0                0                 0   \n",
       "\n",
       "   poutcome_nonexistent  poutcome_success  y_no  y_yes  \n",
       "0                     1                 0     1      0  \n",
       "1                     1                 0     1      0  \n",
       "2                     1                 0     1      0  \n",
       "3                     1                 0     1      0  \n",
       "4                     1                 0     1      0  \n",
       "\n",
       "[5 rows x 63 columns]"
      ]
     },
     "execution_count": 4,
     "metadata": {},
     "output_type": "execute_result"
    }
   ],
   "source": [
    "df = pd.read_csv('Data/Preprocessing.csv',index_col=0)\n",
    "df.head()"
   ]
  },
  {
   "cell_type": "code",
   "execution_count": null,
   "id": "a4c5860c",
   "metadata": {},
   "outputs": [],
   "source": []
  },
  {
   "cell_type": "code",
   "execution_count": 5,
   "id": "eddf6a04",
   "metadata": {},
   "outputs": [],
   "source": [
    "X=df.drop(['y',\"y_yes\",\"y_no\"], axis=1)\n",
    "y=df['y']\n",
    "\n"
   ]
  },
  {
   "cell_type": "markdown",
   "id": "3b6a7cf5",
   "metadata": {},
   "source": [
    "# Train Test Split"
   ]
  },
  {
   "cell_type": "code",
   "execution_count": 6,
   "id": "1f72e9cd",
   "metadata": {},
   "outputs": [],
   "source": [
    "X_train, X_test, y_train, y_test = train_test_split(X,y, test_size=0.3, random_state=42)"
   ]
  },
  {
   "cell_type": "code",
   "execution_count": 7,
   "id": "0d7fa2ef",
   "metadata": {},
   "outputs": [
    {
     "data": {
      "text/plain": [
       "((28831, 60), (28831,))"
      ]
     },
     "execution_count": 7,
     "metadata": {},
     "output_type": "execute_result"
    }
   ],
   "source": [
    "X_train.shape, y_train.shape "
   ]
  },
  {
   "cell_type": "markdown",
   "id": "7a61f5e9",
   "metadata": {},
   "source": []
  },
  {
   "cell_type": "markdown",
   "id": "3a2413e8",
   "metadata": {},
   "source": []
  },
  {
   "cell_type": "markdown",
   "id": "2cf7e754",
   "metadata": {},
   "source": [
    "# Model Creation"
   ]
  },
  {
   "cell_type": "markdown",
   "id": "4871cc18",
   "metadata": {},
   "source": [
    "We will be starting with KNN, a unsupervised learning method, because its versatile, simple, accurate and non assumpitve. Choosing K parameter will be most important, as it may cause overfitting if we are not careful. "
   ]
  },
  {
   "cell_type": "code",
   "execution_count": 8,
   "id": "f460a128",
   "metadata": {},
   "outputs": [],
   "source": [
    "# pipeline combining transformers and estimator\n",
    "pipe_knn= make_pipeline(StandardScaler(), KNeighborsClassifier())"
   ]
  },
  {
   "cell_type": "code",
   "execution_count": 9,
   "id": "b8c5004b",
   "metadata": {},
   "outputs": [],
   "source": [
    "# grid searh to choose the best (combination of) hyperparameters\n",
    "gs_knn=GridSearchCV(estimator= pipe_knn,\n",
    "               param_grid={'kneighborsclassifier__n_neighbors':[4,5,6,7]},\n",
    "               scoring='accuracy',\n",
    "               cv=4)\n"
   ]
  },
  {
   "cell_type": "code",
   "execution_count": 10,
   "id": "be815e7b",
   "metadata": {},
   "outputs": [],
   "source": [
    "\n",
    "\n",
    "\n",
    "# nested cross validation combining grid search (inner loop) and k-fold cv (outter loop)\n",
    "gs_knn_scores = cross_val_score(gs_knn, X=X_train, y=y_train, cv=3,scoring='accuracy', n_jobs=-1)\n",
    "\n"
   ]
  },
  {
   "cell_type": "code",
   "execution_count": 11,
   "id": "a966f76d",
   "metadata": {},
   "outputs": [
    {
     "data": {
      "text/plain": [
       "Pipeline(steps=[('standardscaler', StandardScaler()),\n",
       "                ('kneighborsclassifier', KNeighborsClassifier(n_neighbors=6))])"
      ]
     },
     "execution_count": 11,
     "metadata": {},
     "output_type": "execute_result"
    }
   ],
   "source": [
    "# fit, and fit with best estimator\n",
    "gs_knn.fit(X_train, y_train)\n",
    "gs_knn_best=gs_knn.best_estimator_\n",
    "gs_knn_best.fit(X_train, y_train)"
   ]
  },
  {
   "cell_type": "code",
   "execution_count": 12,
   "id": "baa705b7",
   "metadata": {},
   "outputs": [
    {
     "name": "stdout",
     "output_type": "stream",
     "text": [
      "Train Accuracy:   90.6%\n",
      "Test Accuracy:    89.6%\n"
     ]
    }
   ],
   "source": [
    "print('Train Accuracy:   {0:.1f}%'.format(gs_knn.score(X_train, y_train)*100))\n",
    "print('Test Accuracy:    {0:.1f}%'.format(gs_knn.score(X_test, y_test)*100))\n"
   ]
  },
  {
   "cell_type": "code",
   "execution_count": 13,
   "id": "a0f02a96",
   "metadata": {},
   "outputs": [
    {
     "name": "stdout",
     "output_type": "stream",
     "text": [
      "[[10804  1124]\n",
      " [  164   265]]\n",
      "              precision    recall  f1-score   support\n",
      "\n",
      "          no       0.99      0.91      0.94     11928\n",
      "         yes       0.19      0.62      0.29       429\n",
      "\n",
      "    accuracy                           0.90     12357\n",
      "   macro avg       0.59      0.76      0.62     12357\n",
      "weighted avg       0.96      0.90      0.92     12357\n",
      "\n"
     ]
    }
   ],
   "source": [
    "#confusion_matrix and classification report\n",
    "ypreds=gs_knn_best.predict(X_test)\n",
    "print(confusion_matrix(ypreds ,y_test))\n",
    "print(classification_report(ypreds ,y_test))\n",
    "\n"
   ]
  },
  {
   "cell_type": "code",
   "execution_count": 14,
   "id": "9899742a",
   "metadata": {},
   "outputs": [],
   "source": [
    "#confusion matrix "
   ]
  },
  {
   "cell_type": "code",
   "execution_count": 21,
   "id": "03a1d2f0",
   "metadata": {},
   "outputs": [
    {
     "name": "stdout",
     "output_type": "stream",
     "text": [
      "Confusion matrix, without normalization\n",
      "[[10804   164]\n",
      " [ 1124   265]]\n",
      "Normalized confusion matrix\n",
      "[[0.98504741 0.01495259]\n",
      " [0.80921526 0.19078474]]\n"
     ]
    },
    {
     "data": {
      "image/png": "[encoded data removed]",
      "text/plain": [
       "<Figure size 432x288 with 2 Axes>"
      ]
     },
     "metadata": {
      "needs_background": "light"
     },
     "output_type": "display_data"
    },
    {
     "data": {
      "image/png": "[encoded data removed]",
      "text/plain": [
       "<Figure size 432x288 with 2 Axes>"
      ]
     },
     "metadata": {
      "needs_background": "light"
     },
     "output_type": "display_data"
    }
   ],
   "source": [
    "# Plot non-normalized confusion matrix\n",
    "titles_options = [(\"Confusion matrix, without normalization\", None),\n",
    "                  (\"Normalized confusion matrix\", 'true')]\n",
    "for title, normalize in titles_options:\n",
    "    disp = plot_confusion_matrix(gs_knn, X_test, y_test,\n",
    "                                 cmap=plt.cm.Blues,\n",
    "                                 normalize=normalize)\n",
    "    disp.ax_.set_title(title)\n",
    "\n",
    "    print(title)\n",
    "    print(disp.confusion_matrix)\n",
    "\n",
    "plt.show()\n"
   ]
  },
  {
   "cell_type": "markdown",
   "id": "04567b6b",
   "metadata": {},
   "source": [
    "using lower cv than i would like purely because i dont have enough computational power. I know the higher CV, i can reduce bias and raise variance. "
   ]
  },
  {
   "cell_type": "markdown",
   "id": "74be909d",
   "metadata": {},
   "source": [
    "Looks really good ! Now lets try SVM "
   ]
  },
  {
   "cell_type": "code",
   "execution_count": null,
   "id": "35aa3c55",
   "metadata": {},
   "outputs": [],
   "source": []
  },
  {
   "cell_type": "markdown",
   "id": "4905b666",
   "metadata": {},
   "source": [
    "# SVM "
   ]
  },
  {
   "cell_type": "markdown",
   "id": "5ee333cd",
   "metadata": {},
   "source": [
    "A support vector machine is a machine learning model that is able to generalise between two different classes if the set of labelled data is provided in the training set to the algorithm. The main function of the SVM is to check for that hyperplane that is able to distinguish between the two classes.[1]"
   ]
  },
  {
   "cell_type": "code",
   "execution_count": 29,
   "id": "30546569",
   "metadata": {},
   "outputs": [
    {
     "name": "stdout",
     "output_type": "stream",
     "text": [
      "Train Accuracy:   88.7%\n",
      "Test Accuracy:    88.8%\n"
     ]
    }
   ],
   "source": [
    "# pipeline combining transformers and estimator\n",
    "pipe_svm= make_pipeline(StandardScaler(), SVC(random_state=1))\n",
    "\n",
    "# grid searh to choose the best (combination of) hyperparameters\n",
    "r=[0.1,1,10]\n",
    "pg_svm=[ {'svc__C':r, 'svc__gamma':r, 'svc__kernel':['rbf']}]\n",
    "\n",
    "gs_svm=GridSearchCV(estimator= pipe_svm,\n",
    "               param_grid= pg_svm,\n",
    "               scoring='accuracy',\n",
    "               cv=2)\n",
    "\n",
    "# nested cross validation combining grid search (inner loop) and k-fold cv (outter loop)\n",
    "gs_svm_scores = cross_val_score(gs_svm, X=X_train, y=y_train, cv=2,scoring='accuracy', n_jobs=-1)\n",
    "\n",
    "# fit, and fit with best estimator\n",
    "gs_svm.fit(X_train, y_train)\n",
    "gs_svm_best=gs_svm.best_estimator_\n",
    "gs_svm_best.fit(X_train, y_train)\n",
    "\n",
    "print('Train Accuracy:   {0:.1f}%'.format(gs_svm.score(X_train, y_train)*100))\n",
    "print('Test Accuracy:    {0:.1f}%'.format(gs_svm.score(X_test, y_test)*100))"
   ]
  },
  {
   "cell_type": "code",
   "execution_count": 30,
   "id": "f3ccd15a",
   "metadata": {},
   "outputs": [
    {
     "name": "stdout",
     "output_type": "stream",
     "text": [
      "[[10968  1389]\n",
      " [    0     0]]\n"
     ]
    },
    {
     "name": "stderr",
     "output_type": "stream",
     "text": [
      "/opt/anaconda3/lib/python3.7/site-packages/sklearn/metrics/_classification.py:1221: UndefinedMetricWarning: Recall and F-score are ill-defined and being set to 0.0 in labels with no true samples. Use `zero_division` parameter to control this behavior.\n",
      "  _warn_prf(average, modifier, msg_start, len(result))\n"
     ]
    },
    {
     "name": "stdout",
     "output_type": "stream",
     "text": [
      "              precision    recall  f1-score   support\n",
      "\n",
      "          no       1.00      0.89      0.94     12357\n",
      "         yes       0.00      0.00      0.00         0\n",
      "\n",
      "    accuracy                           0.89     12357\n",
      "   macro avg       0.50      0.44      0.47     12357\n",
      "weighted avg       1.00      0.89      0.94     12357\n",
      "\n"
     ]
    }
   ],
   "source": [
    "#confusion_matrix and classification report\n",
    "ypreds=gs_svm_best.predict(X_test)\n",
    "print(confusion_matrix(ypreds ,y_test))\n",
    "print(classification_report(ypreds ,y_test))\n",
    "\n"
   ]
  },
  {
   "cell_type": "code",
   "execution_count": 31,
   "id": "512739a2",
   "metadata": {},
   "outputs": [
    {
     "name": "stdout",
     "output_type": "stream",
     "text": [
      "Confusion matrix, without normalization\n",
      "[[10968     0]\n",
      " [ 1389     0]]\n",
      "Normalized confusion matrix\n",
      "[[1. 0.]\n",
      " [1. 0.]]\n"
     ]
    },
    {
     "data": {
      "image/png": "[encoded data removed]",
      "text/plain": [
       "<Figure size 432x288 with 2 Axes>"
      ]
     },
     "metadata": {
      "needs_background": "light"
     },
     "output_type": "display_data"
    },
    {
     "data": {
      "image/png": "[encoded data removed]",
      "text/plain": [
       "<Figure size 432x288 with 2 Axes>"
      ]
     },
     "metadata": {
      "needs_background": "light"
     },
     "output_type": "display_data"
    }
   ],
   "source": [
    "# Plot non-normalized confusion matrix\n",
    "titles_options = [(\"Confusion matrix, without normalization\", None),\n",
    "                  (\"Normalized confusion matrix\", 'true')]\n",
    "for title, normalize in titles_options:\n",
    "    disp = plot_confusion_matrix(gs_svm, X_test, y_test,\n",
    "                                 cmap=plt.cm.Blues,\n",
    "                                 normalize=normalize)\n",
    "    disp.ax_.set_title(title)\n",
    "\n",
    "    print(title)\n",
    "    print(disp.confusion_matrix)\n",
    "\n",
    "plt.show()\n"
   ]
  },
  {
   "cell_type": "markdown",
   "id": "fa30d8bc",
   "metadata": {},
   "source": [
    "# Random Forest"
   ]
  },
  {
   "cell_type": "code",
   "execution_count": 22,
   "id": "f0aa79c1",
   "metadata": {},
   "outputs": [
    {
     "name": "stdout",
     "output_type": "stream",
     "text": [
      "Train Accuracy:   95.4%\n",
      "Test Accuracy:    89.7%\n"
     ]
    }
   ],
   "source": [
    "rf= RandomForestClassifier(random_state=1)\n",
    "\n",
    "# grid searh to choose the best (combination of) hyperparameters\n",
    "pg_rf={'n_estimators': [100,200,400],'max_depth': [20,40,50,60]}\n",
    "\n",
    "gs_rf=GridSearchCV(estimator= rf,\n",
    "               param_grid= pg_rf,\n",
    "               scoring='accuracy',\n",
    "               cv=2)\n",
    "\n",
    "# nested cross validation combining grid search (inner loop) and k-fold cv (outter loop)\n",
    "gs_rf_scores = cross_val_score(gs_rf, X=X_train, y=y_train, cv=5,scoring='accuracy', n_jobs=-1)\n",
    "\n",
    "# fit, and fit with best estimator\n",
    "gs_rf.fit(X_train, y_train)\n",
    "gs_rf_best=gs_rf.best_estimator_\n",
    "gs_rf_best.fit(X_train, y_train)\n",
    "\n",
    "print('Train Accuracy:   {0:.1f}%'.format(gs_rf.score(X_train, y_train)*100))\n",
    "print('Test Accuracy:    {0:.1f}%'.format(gs_rf.score(X_test, y_test)*100))"
   ]
  },
  {
   "cell_type": "code",
   "execution_count": 23,
   "id": "604b1e1d",
   "metadata": {},
   "outputs": [
    {
     "name": "stdout",
     "output_type": "stream",
     "text": [
      "[[10714  1017]\n",
      " [  254   372]]\n",
      "              precision    recall  f1-score   support\n",
      "\n",
      "          no       0.98      0.91      0.94     11731\n",
      "         yes       0.27      0.59      0.37       626\n",
      "\n",
      "    accuracy                           0.90     12357\n",
      "   macro avg       0.62      0.75      0.66     12357\n",
      "weighted avg       0.94      0.90      0.91     12357\n",
      "\n"
     ]
    }
   ],
   "source": [
    "#confusion_matrix and classification report\n",
    "ypreds=gs_rf_best.predict(X_test)\n",
    "print(confusion_matrix(ypreds ,y_test))\n",
    "print(classification_report(ypreds ,y_test))\n",
    "\n"
   ]
  },
  {
   "cell_type": "code",
   "execution_count": 24,
   "id": "cc55eca4",
   "metadata": {},
   "outputs": [
    {
     "data": {
      "image/png": "[encoded data removed]",
      "text/plain": [
       "<Figure size 432x288 with 1 Axes>"
      ]
     },
     "metadata": {
      "needs_background": "light"
     },
     "output_type": "display_data"
    }
   ],
   "source": [
    "# using random forest to get feature importances\n",
    "importances= gs_rf_best.feature_importances_\n",
    "feature_importances= pd.Series(importances, index=X_train.columns).sort_values(ascending=False)\n",
    "sns.barplot(x=feature_importances[0:10], y=feature_importances.index[0:10], palette=\"rocket\")\n",
    "sns.despine()\n",
    "plt.xlabel(\"Feature Importances\")\n",
    "plt.ylabel(\"Features\")\n",
    "plt.show()"
   ]
  },
  {
   "cell_type": "code",
   "execution_count": 25,
   "id": "43a5060f",
   "metadata": {},
   "outputs": [
    {
     "name": "stdout",
     "output_type": "stream",
     "text": [
      "Confusion matrix, without normalization\n",
      "[[10714   254]\n",
      " [ 1017   372]]\n",
      "Normalized confusion matrix\n",
      "[[0.97684172 0.02315828]\n",
      " [0.73218143 0.26781857]]\n"
     ]
    },
    {
     "data": {
      "image/png": "[encoded data removed]",
      "text/plain": [
       "<Figure size 432x288 with 2 Axes>"
      ]
     },
     "metadata": {
      "needs_background": "light"
     },
     "output_type": "display_data"
    },
    {
     "data": {
      "image/png": "[encoded data removed]",
      "text/plain": [
       "<Figure size 432x288 with 2 Axes>"
      ]
     },
     "metadata": {
      "needs_background": "light"
     },
     "output_type": "display_data"
    }
   ],
   "source": [
    "# Plot non-normalized confusion matrix\n",
    "titles_options = [(\"Confusion matrix, without normalization\", None),\n",
    "                  (\"Normalized confusion matrix\", 'true')]\n",
    "for title, normalize in titles_options:\n",
    "    disp = plot_confusion_matrix(gs_rf, X_test, y_test,\n",
    "                                 cmap=plt.cm.Blues,\n",
    "                                 normalize=normalize)\n",
    "    disp.ax_.set_title(title)\n",
    "\n",
    "    print(title)\n",
    "    print(disp.confusion_matrix)\n",
    "\n",
    "plt.show()\n"
   ]
  },
  {
   "cell_type": "markdown",
   "id": "6b0f823c",
   "metadata": {},
   "source": [
    "Age seems to be the biggest factor,but that is no surprise because the younger they can get a client, the longer they can do business with them over the course of their life.Volume is another factor, because we can see how important the number of employees to carry through the campaign is.That means to say that any decrease in the workforce would have negative effects to the marketing campaign. "
   ]
  },
  {
   "cell_type": "code",
   "execution_count": null,
   "id": "4c19764b",
   "metadata": {},
   "outputs": [],
   "source": []
  },
  {
   "cell_type": "markdown",
   "id": "e7b242e3",
   "metadata": {},
   "source": [
    "# Gradient Boosting \n"
   ]
  },
  {
   "cell_type": "code",
   "execution_count": 26,
   "id": "c606a09e",
   "metadata": {},
   "outputs": [
    {
     "name": "stdout",
     "output_type": "stream",
     "text": [
      "Train Accuracy:   99.4%\n",
      "Test Accuracy:    88.3%\n"
     ]
    }
   ],
   "source": [
    "# estimator\n",
    "xb= xgb.XGBClassifier(random_state=1)\n",
    "\n",
    "# grid searh to choose the best (combination of) hyperparameters\n",
    "pg_xb={'n_estimators':[100,200,400], 'max_depth':[20,40,50]}\n",
    "\n",
    "gs_xb=GridSearchCV(estimator= xb,\n",
    "               param_grid= pg_xb,\n",
    "               scoring='accuracy',\n",
    "               cv=2)\n",
    "\n",
    "# nested cross validation combining grid search (inner loop) and k-fold cv (outter loop)\n",
    "gs_xb_scores = cross_val_score(gs_xb, X=X_train, y=y_train, cv=3,scoring='accuracy', n_jobs=-1)\n",
    "\n",
    "# fit, and fit with best estimator\n",
    "gs_xb.fit(X_train, y_train)\n",
    "gs_xb_best=gs_xb.best_estimator_\n",
    "gs_xb_best.fit(X_train, y_train)\n",
    "\n",
    "print('Train Accuracy:   {0:.1f}%'.format(gs_xb.score(X_train, y_train)*100))\n",
    "print('Test Accuracy:    {0:.1f}%'.format(gs_xb.score(X_test, y_test)*100))\n"
   ]
  },
  {
   "cell_type": "code",
   "execution_count": 27,
   "id": "3c1e7d95",
   "metadata": {},
   "outputs": [
    {
     "name": "stdout",
     "output_type": "stream",
     "text": [
      "[[10494   976]\n",
      " [  474   413]]\n",
      "              precision    recall  f1-score   support\n",
      "\n",
      "          no       0.96      0.91      0.94     11470\n",
      "         yes       0.30      0.47      0.36       887\n",
      "\n",
      "    accuracy                           0.88     12357\n",
      "   macro avg       0.63      0.69      0.65     12357\n",
      "weighted avg       0.91      0.88      0.89     12357\n",
      "\n"
     ]
    }
   ],
   "source": [
    "# using random forest results: confusion_matrix and classification report\n",
    "ypreds=gs_xb_best.predict(X_test)\n",
    "print(confusion_matrix(ypreds ,y_test))\n",
    "print(classification_report(ypreds ,y_test))\n"
   ]
  },
  {
   "cell_type": "code",
   "execution_count": 28,
   "id": "caef157f",
   "metadata": {},
   "outputs": [
    {
     "name": "stdout",
     "output_type": "stream",
     "text": [
      "Confusion matrix, without normalization\n",
      "[[10494   474]\n",
      " [  976   413]]\n",
      "Normalized confusion matrix\n",
      "[[0.95678337 0.04321663]\n",
      " [0.70266379 0.29733621]]\n"
     ]
    },
    {
     "data": {
      "image/png": "[encoded data removed]",
      "text/plain": [
       "<Figure size 432x288 with 2 Axes>"
      ]
     },
     "metadata": {
      "needs_background": "light"
     },
     "output_type": "display_data"
    },
    {
     "data": {
      "image/png": "[encoded data removed]",
      "text/plain": [
       "<Figure size 432x288 with 2 Axes>"
      ]
     },
     "metadata": {
      "needs_background": "light"
     },
     "output_type": "display_data"
    }
   ],
   "source": [
    "# Plot non-normalized confusion matrix\n",
    "titles_options = [(\"Confusion matrix, without normalization\", None),\n",
    "                  (\"Normalized confusion matrix\", 'true')]\n",
    "for title, normalize in titles_options:\n",
    "    disp = plot_confusion_matrix(gs_xb, X_test, y_test,\n",
    "                                 cmap=plt.cm.Blues,\n",
    "                                 normalize=normalize)\n",
    "    disp.ax_.set_title(title)\n",
    "\n",
    "    print(title)\n",
    "    print(disp.confusion_matrix)\n",
    "\n",
    "plt.show()"
   ]
  },
  {
   "cell_type": "code",
   "execution_count": null,
   "id": "aa0d6227",
   "metadata": {},
   "outputs": [],
   "source": []
  },
  {
   "cell_type": "code",
   "execution_count": null,
   "id": "efd53381",
   "metadata": {},
   "outputs": [],
   "source": []
  },
  {
   "cell_type": "code",
   "execution_count": null,
   "id": "1cc4f8db",
   "metadata": {},
   "outputs": [],
   "source": []
  },
  {
   "cell_type": "code",
   "execution_count": null,
   "id": "18d68905",
   "metadata": {},
   "outputs": [],
   "source": []
  },
  {
   "cell_type": "code",
   "execution_count": null,
   "id": "53cc014c",
   "metadata": {},
   "outputs": [],
   "source": []
  },
  {
   "cell_type": "code",
   "execution_count": null,
   "id": "376e6cbf",
   "metadata": {},
   "outputs": [],
   "source": []
  },
  {
   "cell_type": "code",
   "execution_count": null,
   "id": "d8f072ae",
   "metadata": {},
   "outputs": [],
   "source": []
  },
  {
   "cell_type": "code",
   "execution_count": null,
   "id": "86c093ac",
   "metadata": {},
   "outputs": [],
   "source": []
  },
  {
   "cell_type": "code",
   "execution_count": null,
   "id": "c187377c",
   "metadata": {},
   "outputs": [],
   "source": []
  },
  {
   "cell_type": "markdown",
   "id": "e10ba5b0",
   "metadata": {},
   "source": [
    "Reference #1  https://www.analyticssteps.com/blogs/how-does-support-vector-machine-algorithm-works-machine-learning "
   ]
  },
  {
   "cell_type": "code",
   "execution_count": null,
   "id": "7c10caa1",
   "metadata": {},
   "outputs": [],
   "source": []
  }
 ],
 "metadata": {
  "kernelspec": {
   "display_name": "Python 3",
   "language": "python",
   "name": "python3"
  },
  "language_info": {
   "codemirror_mode": {
    "name": "ipython",
    "version": 3
   },
   "file_extension": ".py",
   "mimetype": "text/x-python",
   "name": "python",
   "nbconvert_exporter": "python",
   "pygments_lexer": "ipython3",
   "version": "3.7.7"
  }
 },
 "nbformat": 4,
 "nbformat_minor": 5
}
