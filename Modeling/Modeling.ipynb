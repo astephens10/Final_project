{
 "cells": [
  {
   "cell_type": "code",
   "execution_count": 1,
   "id": "714ad8c8",
   "metadata": {},
   "outputs": [],
   "source": [
    "import numpy as np \n",
    "import pandas as pd \n",
    "import matplotlib.pyplot as plt\n",
    "import seaborn as sns\n",
    "from collections import Counter \n",
    "from imblearn.under_sampling import RandomUnderSampler\n",
    "from sklearn.model_selection import train_test_split\n",
    "from sklearn.model_selection import cross_val_score\n",
    "from sklearn.model_selection import GridSearchCV\n",
    "from sklearn.pipeline import make_pipeline\n",
    "from sklearn.linear_model import LogisticRegression\n",
    "from sklearn.neighbors import KNeighborsClassifier\n",
    "from sklearn.svm import SVC\n",
    "from sklearn.ensemble import RandomForestClassifier\n",
    "import xgboost as xgb\n",
    "from sklearn.metrics import confusion_matrix, classification_report\n",
    "from sklearn.preprocessing import StandardScaler\n",
    "from sklearn.metrics import plot_confusion_matrix"
   ]
  },
  {
   "cell_type": "code",
   "execution_count": 2,
   "id": "51938985",
   "metadata": {},
   "outputs": [
    {
     "data": {
      "text/plain": [
       "'/Users/andrewstephens/Final_project/Modeling'"
      ]
     },
     "execution_count": 2,
     "metadata": {},
     "output_type": "execute_result"
    }
   ],
   "source": [
    "pwd"
   ]
  },
  {
   "cell_type": "code",
   "execution_count": 3,
   "id": "9be88bd7",
   "metadata": {},
   "outputs": [
    {
     "name": "stdout",
     "output_type": "stream",
     "text": [
      "/Users/andrewstephens/Final_project\n"
     ]
    }
   ],
   "source": [
    "cd .."
   ]
  },
  {
   "cell_type": "code",
   "execution_count": 4,
   "id": "8ce02fa2",
   "metadata": {},
   "outputs": [
    {
     "data": {
      "text/html": [
       "<div>\n",
       "<style scoped>\n",
       "    .dataframe tbody tr th:only-of-type {\n",
       "        vertical-align: middle;\n",
       "    }\n",
       "\n",
       "    .dataframe tbody tr th {\n",
       "        vertical-align: top;\n",
       "    }\n",
       "\n",
       "    .dataframe thead th {\n",
       "        text-align: right;\n",
       "    }\n",
       "</style>\n",
       "<table border=\"1\" class=\"dataframe\">\n",
       "  <thead>\n",
       "    <tr style=\"text-align: right;\">\n",
       "      <th></th>\n",
       "      <th>age</th>\n",
       "      <th>campaign</th>\n",
       "      <th>pdays</th>\n",
       "      <th>previous</th>\n",
       "      <th>cons.price.idx</th>\n",
       "      <th>cons.conf.idx</th>\n",
       "      <th>nr.employed</th>\n",
       "      <th>y</th>\n",
       "      <th>job_admin.</th>\n",
       "      <th>job_blue-collar</th>\n",
       "      <th>...</th>\n",
       "      <th>day_of_week_fri</th>\n",
       "      <th>day_of_week_mon</th>\n",
       "      <th>day_of_week_thu</th>\n",
       "      <th>day_of_week_tue</th>\n",
       "      <th>day_of_week_wed</th>\n",
       "      <th>poutcome_failure</th>\n",
       "      <th>poutcome_nonexistent</th>\n",
       "      <th>poutcome_success</th>\n",
       "      <th>y_no</th>\n",
       "      <th>y_yes</th>\n",
       "    </tr>\n",
       "  </thead>\n",
       "  <tbody>\n",
       "    <tr>\n",
       "      <th>0</th>\n",
       "      <td>56</td>\n",
       "      <td>1</td>\n",
       "      <td>999</td>\n",
       "      <td>0</td>\n",
       "      <td>93.994</td>\n",
       "      <td>-36.4</td>\n",
       "      <td>5191.0</td>\n",
       "      <td>no</td>\n",
       "      <td>0</td>\n",
       "      <td>0</td>\n",
       "      <td>...</td>\n",
       "      <td>0</td>\n",
       "      <td>1</td>\n",
       "      <td>0</td>\n",
       "      <td>0</td>\n",
       "      <td>0</td>\n",
       "      <td>0</td>\n",
       "      <td>1</td>\n",
       "      <td>0</td>\n",
       "      <td>1</td>\n",
       "      <td>0</td>\n",
       "    </tr>\n",
       "    <tr>\n",
       "      <th>1</th>\n",
       "      <td>57</td>\n",
       "      <td>1</td>\n",
       "      <td>999</td>\n",
       "      <td>0</td>\n",
       "      <td>93.994</td>\n",
       "      <td>-36.4</td>\n",
       "      <td>5191.0</td>\n",
       "      <td>no</td>\n",
       "      <td>0</td>\n",
       "      <td>0</td>\n",
       "      <td>...</td>\n",
       "      <td>0</td>\n",
       "      <td>1</td>\n",
       "      <td>0</td>\n",
       "      <td>0</td>\n",
       "      <td>0</td>\n",
       "      <td>0</td>\n",
       "      <td>1</td>\n",
       "      <td>0</td>\n",
       "      <td>1</td>\n",
       "      <td>0</td>\n",
       "    </tr>\n",
       "    <tr>\n",
       "      <th>2</th>\n",
       "      <td>37</td>\n",
       "      <td>1</td>\n",
       "      <td>999</td>\n",
       "      <td>0</td>\n",
       "      <td>93.994</td>\n",
       "      <td>-36.4</td>\n",
       "      <td>5191.0</td>\n",
       "      <td>no</td>\n",
       "      <td>0</td>\n",
       "      <td>0</td>\n",
       "      <td>...</td>\n",
       "      <td>0</td>\n",
       "      <td>1</td>\n",
       "      <td>0</td>\n",
       "      <td>0</td>\n",
       "      <td>0</td>\n",
       "      <td>0</td>\n",
       "      <td>1</td>\n",
       "      <td>0</td>\n",
       "      <td>1</td>\n",
       "      <td>0</td>\n",
       "    </tr>\n",
       "    <tr>\n",
       "      <th>3</th>\n",
       "      <td>40</td>\n",
       "      <td>1</td>\n",
       "      <td>999</td>\n",
       "      <td>0</td>\n",
       "      <td>93.994</td>\n",
       "      <td>-36.4</td>\n",
       "      <td>5191.0</td>\n",
       "      <td>no</td>\n",
       "      <td>1</td>\n",
       "      <td>0</td>\n",
       "      <td>...</td>\n",
       "      <td>0</td>\n",
       "      <td>1</td>\n",
       "      <td>0</td>\n",
       "      <td>0</td>\n",
       "      <td>0</td>\n",
       "      <td>0</td>\n",
       "      <td>1</td>\n",
       "      <td>0</td>\n",
       "      <td>1</td>\n",
       "      <td>0</td>\n",
       "    </tr>\n",
       "    <tr>\n",
       "      <th>4</th>\n",
       "      <td>56</td>\n",
       "      <td>1</td>\n",
       "      <td>999</td>\n",
       "      <td>0</td>\n",
       "      <td>93.994</td>\n",
       "      <td>-36.4</td>\n",
       "      <td>5191.0</td>\n",
       "      <td>no</td>\n",
       "      <td>0</td>\n",
       "      <td>0</td>\n",
       "      <td>...</td>\n",
       "      <td>0</td>\n",
       "      <td>1</td>\n",
       "      <td>0</td>\n",
       "      <td>0</td>\n",
       "      <td>0</td>\n",
       "      <td>0</td>\n",
       "      <td>1</td>\n",
       "      <td>0</td>\n",
       "      <td>1</td>\n",
       "      <td>0</td>\n",
       "    </tr>\n",
       "  </tbody>\n",
       "</table>\n",
       "<p>5 rows × 63 columns</p>\n",
       "</div>"
      ],
      "text/plain": [
       "   age  campaign  pdays  previous  cons.price.idx  cons.conf.idx  nr.employed  \\\n",
       "0   56         1    999         0          93.994          -36.4       5191.0   \n",
       "1   57         1    999         0          93.994          -36.4       5191.0   \n",
       "2   37         1    999         0          93.994          -36.4       5191.0   \n",
       "3   40         1    999         0          93.994          -36.4       5191.0   \n",
       "4   56         1    999         0          93.994          -36.4       5191.0   \n",
       "\n",
       "    y  job_admin.  job_blue-collar  ...  day_of_week_fri  day_of_week_mon  \\\n",
       "0  no           0                0  ...                0                1   \n",
       "1  no           0                0  ...                0                1   \n",
       "2  no           0                0  ...                0                1   \n",
       "3  no           1                0  ...                0                1   \n",
       "4  no           0                0  ...                0                1   \n",
       "\n",
       "   day_of_week_thu  day_of_week_tue  day_of_week_wed  poutcome_failure  \\\n",
       "0                0                0                0                 0   \n",
       "1                0                0                0                 0   \n",
       "2                0                0                0                 0   \n",
       "3                0                0                0                 0   \n",
       "4                0                0                0                 0   \n",
       "\n",
       "   poutcome_nonexistent  poutcome_success  y_no  y_yes  \n",
       "0                     1                 0     1      0  \n",
       "1                     1                 0     1      0  \n",
       "2                     1                 0     1      0  \n",
       "3                     1                 0     1      0  \n",
       "4                     1                 0     1      0  \n",
       "\n",
       "[5 rows x 63 columns]"
      ]
     },
     "execution_count": 4,
     "metadata": {},
     "output_type": "execute_result"
    }
   ],
   "source": [
    "df = pd.read_csv('Data/Preprocessing.csv',index_col=0)\n",
    "df.head()"
   ]
  },
  {
   "cell_type": "code",
   "execution_count": null,
   "id": "a4c5860c",
   "metadata": {},
   "outputs": [],
   "source": []
  },
  {
   "cell_type": "code",
   "execution_count": 5,
   "id": "eddf6a04",
   "metadata": {},
   "outputs": [],
   "source": [
    "X=df.drop(['y',\"y_yes\",\"y_no\"], axis=1)\n",
    "y=df['y']\n",
    "\n"
   ]
  },
  {
   "cell_type": "markdown",
   "id": "3b6a7cf5",
   "metadata": {},
   "source": [
    "# Train Test Split"
   ]
  },
  {
   "cell_type": "code",
   "execution_count": 6,
   "id": "1f72e9cd",
   "metadata": {},
   "outputs": [],
   "source": [
    "X_train, X_test, y_train, y_test = train_test_split(X,y, test_size=0.3, random_state=42)"
   ]
  },
  {
   "cell_type": "code",
   "execution_count": 7,
   "id": "0d7fa2ef",
   "metadata": {},
   "outputs": [
    {
     "data": {
      "text/plain": [
       "((28831, 60), (28831,))"
      ]
     },
     "execution_count": 7,
     "metadata": {},
     "output_type": "execute_result"
    }
   ],
   "source": [
    "X_train.shape, y_train.shape "
   ]
  },
  {
   "cell_type": "markdown",
   "id": "7a61f5e9",
   "metadata": {},
   "source": []
  },
  {
   "cell_type": "markdown",
   "id": "3272eb37",
   "metadata": {},
   "source": [
    "# Making Sure Data is Balanced \n",
    "\n"
   ]
  },
  {
   "cell_type": "code",
   "execution_count": null,
   "id": "245bf8dd",
   "metadata": {},
   "outputs": [],
   "source": []
  },
  {
   "cell_type": "code",
   "execution_count": 8,
   "id": "cc607f06",
   "metadata": {},
   "outputs": [
    {
     "name": "stdout",
     "output_type": "stream",
     "text": [
      "Before undersampling:  Counter({'no': 25580, 'yes': 3251})\n",
      "After undersampling:  Counter({'no': 3251, 'yes': 3251})\n"
     ]
    }
   ],
   "source": [
    "# summarize class distribution\n",
    "print(\"Before undersampling: \", Counter(y_train))\n",
    "\n",
    "# define undersampling strategy\n",
    "undersample = RandomUnderSampler(sampling_strategy='majority')\n",
    "\n",
    "# fit and apply the transform\n",
    "X_train, y_train = undersample.fit_resample(X_train, y_train)\n",
    "\n",
    "# summarize class distribution\n",
    "print(\"After undersampling: \", Counter(y_train))"
   ]
  },
  {
   "cell_type": "code",
   "execution_count": null,
   "id": "b59e086a",
   "metadata": {},
   "outputs": [],
   "source": [
    "# Looks like our data is balanced"
   ]
  },
  {
   "cell_type": "code",
   "execution_count": null,
   "id": "da84749f",
   "metadata": {},
   "outputs": [],
   "source": []
  },
  {
   "cell_type": "code",
   "execution_count": null,
   "id": "99a76aaa",
   "metadata": {},
   "outputs": [],
   "source": []
  },
  {
   "cell_type": "code",
   "execution_count": null,
   "id": "0093af52",
   "metadata": {},
   "outputs": [],
   "source": []
  },
  {
   "cell_type": "code",
   "execution_count": null,
   "id": "b9179635",
   "metadata": {},
   "outputs": [],
   "source": []
  },
  {
   "cell_type": "code",
   "execution_count": null,
   "id": "579d1aaf",
   "metadata": {},
   "outputs": [],
   "source": []
  },
  {
   "cell_type": "markdown",
   "id": "2cf7e754",
   "metadata": {},
   "source": [
    "# Model Creation"
   ]
  },
  {
   "cell_type": "markdown",
   "id": "4871cc18",
   "metadata": {},
   "source": [
    "We will be starting with KNN, a unsupervised learning method, because its versatile, simple, accurate and non assumpitve. Choosing K parameter will be most important, as it may cause overfitting if we are not careful. "
   ]
  },
  {
   "cell_type": "code",
   "execution_count": 9,
   "id": "f460a128",
   "metadata": {},
   "outputs": [],
   "source": [
    "# pipeline combining transformers and estimator\n",
    "pipe_knn= make_pipeline(StandardScaler(), KNeighborsClassifier())"
   ]
  },
  {
   "cell_type": "code",
   "execution_count": 10,
   "id": "b8c5004b",
   "metadata": {},
   "outputs": [],
   "source": [
    "# grid searh to choose the best (combination of) hyperparameters\n",
    "gs_knn=GridSearchCV(estimator= pipe_knn,\n",
    "               param_grid={'kneighborsclassifier__n_neighbors':[4,5,6,7]},\n",
    "               scoring='accuracy',\n",
    "               cv=4)\n"
   ]
  },
  {
   "cell_type": "code",
   "execution_count": 11,
   "id": "be815e7b",
   "metadata": {},
   "outputs": [],
   "source": [
    "\n",
    "\n",
    "\n",
    "# nested cross validation combining grid search (inner loop) and k-fold cv (outter loop)\n",
    "gs_knn_scores = cross_val_score(gs_knn, X=X_train, y=y_train, cv=5,scoring='accuracy', n_jobs=-1)\n",
    "\n"
   ]
  },
  {
   "cell_type": "code",
   "execution_count": 12,
   "id": "a966f76d",
   "metadata": {},
   "outputs": [
    {
     "data": {
      "text/plain": [
       "Pipeline(steps=[('standardscaler', StandardScaler()),\n",
       "                ('kneighborsclassifier', KNeighborsClassifier(n_neighbors=7))])"
      ]
     },
     "execution_count": 12,
     "metadata": {},
     "output_type": "execute_result"
    }
   ],
   "source": [
    "# fit, and fit with best estimator\n",
    "gs_knn.fit(X_train, y_train)\n",
    "gs_knn_best=gs_knn.best_estimator_\n",
    "gs_knn_best.fit(X_train, y_train)"
   ]
  },
  {
   "cell_type": "code",
   "execution_count": 13,
   "id": "baa705b7",
   "metadata": {},
   "outputs": [
    {
     "name": "stdout",
     "output_type": "stream",
     "text": [
      "Train Accuracy:   76.0%\n",
      "Test Accuracy:    74.8%\n"
     ]
    }
   ],
   "source": [
    "print('Train Accuracy:   {0:.1f}%'.format(gs_knn.score(X_train, y_train)*100))\n",
    "print('Test Accuracy:    {0:.1f}%'.format(gs_knn.score(X_test, y_test)*100))\n"
   ]
  },
  {
   "cell_type": "code",
   "execution_count": 14,
   "id": "a0f02a96",
   "metadata": {},
   "outputs": [
    {
     "name": "stdout",
     "output_type": "stream",
     "text": [
      "[[8380  524]\n",
      " [2588  865]]\n",
      "              precision    recall  f1-score   support\n",
      "\n",
      "          no       0.76      0.94      0.84      8904\n",
      "         yes       0.62      0.25      0.36      3453\n",
      "\n",
      "    accuracy                           0.75     12357\n",
      "   macro avg       0.69      0.60      0.60     12357\n",
      "weighted avg       0.72      0.75      0.71     12357\n",
      "\n"
     ]
    }
   ],
   "source": [
    "#confusion_matrix and classification report\n",
    "ypreds=gs_knn_best.predict(X_test)\n",
    "print(confusion_matrix(ypreds ,y_test))\n",
    "print(classification_report(ypreds ,y_test))\n",
    "\n"
   ]
  },
  {
   "cell_type": "code",
   "execution_count": 15,
   "id": "9899742a",
   "metadata": {},
   "outputs": [],
   "source": [
    "#confusion matrix "
   ]
  },
  {
   "cell_type": "code",
   "execution_count": 16,
   "id": "03a1d2f0",
   "metadata": {},
   "outputs": [
    {
     "name": "stdout",
     "output_type": "stream",
     "text": [
      "Confusion matrix, without normalization\n",
      "[[8380 2588]\n",
      " [ 524  865]]\n",
      "Normalized confusion matrix\n",
      "[[0.76404085 0.23595915]\n",
      " [0.37724982 0.62275018]]\n"
     ]
    },
    {
     "data": {
      "image/png": "[encoded data removed]",
      "text/plain": [
       "<Figure size 432x288 with 2 Axes>"
      ]
     },
     "metadata": {
      "needs_background": "light"
     },
     "output_type": "display_data"
    },
    {
     "data": {
      "image/png": "[encoded data removed]",
      "text/plain": [
       "<Figure size 432x288 with 2 Axes>"
      ]
     },
     "metadata": {
      "needs_background": "light"
     },
     "output_type": "display_data"
    }
   ],
   "source": [
    "# Plot non-normalized confusion matrix\n",
    "titles_options = [(\"Confusion matrix, without normalization\", None),\n",
    "                  (\"Normalized confusion matrix\", 'true')]\n",
    "for title, normalize in titles_options:\n",
    "    disp = plot_confusion_matrix(gs_knn, X_test, y_test,\n",
    "                                 cmap=plt.cm.Blues,\n",
    "                                 normalize=normalize)\n",
    "    disp.ax_.set_title(title)\n",
    "\n",
    "    print(title)\n",
    "    print(disp.confusion_matrix)\n",
    "\n",
    "plt.show()\n"
   ]
  },
  {
   "cell_type": "markdown",
   "id": "04567b6b",
   "metadata": {},
   "source": []
  },
  {
   "cell_type": "markdown",
   "id": "74be909d",
   "metadata": {},
   "source": [
    "Looks really good ! Now lets try SVM "
   ]
  },
  {
   "cell_type": "code",
   "execution_count": null,
   "id": "35aa3c55",
   "metadata": {},
   "outputs": [],
   "source": []
  },
  {
   "cell_type": "markdown",
   "id": "4905b666",
   "metadata": {},
   "source": [
    "# SVM "
   ]
  },
  {
   "cell_type": "markdown",
   "id": "5ee333cd",
   "metadata": {},
   "source": [
    "A support vector machine is a machine learning model that is able to generalise between two different classes if the set of labelled data is provided in the training set to the algorithm. The main function of the SVM is to check for that hyperplane that is able to distinguish between the two classes.[1]"
   ]
  },
  {
   "cell_type": "code",
   "execution_count": 17,
   "id": "30546569",
   "metadata": {},
   "outputs": [
    {
     "name": "stdout",
     "output_type": "stream",
     "text": [
      "Train Accuracy:   93.0%\n",
      "Test Accuracy:    67.7%\n"
     ]
    }
   ],
   "source": [
    "# pipeline combining transformers and estimator\n",
    "pipe_svm= make_pipeline(StandardScaler(), SVC(random_state=1))\n",
    "\n",
    "# grid searh to choose the best (combination of) hyperparameters\n",
    "r=[0.1,1,10]\n",
    "pg_svm=[ {'svc__C':r, 'svc__gamma':r, 'svc__kernel':['rbf']}]\n",
    "\n",
    "gs_svm=GridSearchCV(estimator= pipe_svm,\n",
    "               param_grid= pg_svm,\n",
    "               scoring='accuracy',\n",
    "               cv=4)\n",
    "\n",
    "# nested cross validation combining grid search (inner loop) and k-fold cv (outter loop)\n",
    "gs_svm_scores = cross_val_score(gs_svm, X=X_train, y=y_train, cv=5,scoring='accuracy', n_jobs=-1)\n",
    "\n",
    "# fit, and fit with best estimator\n",
    "gs_svm.fit(X_train, y_train)\n",
    "gs_svm_best=gs_svm.best_estimator_\n",
    "gs_svm_best.fit(X_train, y_train)\n",
    "\n",
    "print('Train Accuracy:   {0:.1f}%'.format(gs_svm.score(X_train, y_train)*100))\n",
    "print('Test Accuracy:    {0:.1f}%'.format(gs_svm.score(X_test, y_test)*100))"
   ]
  },
  {
   "cell_type": "code",
   "execution_count": 18,
   "id": "f3ccd15a",
   "metadata": {},
   "outputs": [
    {
     "name": "stdout",
     "output_type": "stream",
     "text": [
      "[[7398  421]\n",
      " [3570  968]]\n",
      "              precision    recall  f1-score   support\n",
      "\n",
      "          no       0.67      0.95      0.79      7819\n",
      "         yes       0.70      0.21      0.33      4538\n",
      "\n",
      "    accuracy                           0.68     12357\n",
      "   macro avg       0.69      0.58      0.56     12357\n",
      "weighted avg       0.68      0.68      0.62     12357\n",
      "\n"
     ]
    }
   ],
   "source": [
    "#confusion_matrix and classification report\n",
    "ypreds=gs_svm_best.predict(X_test)\n",
    "print(confusion_matrix(ypreds ,y_test))\n",
    "print(classification_report(ypreds ,y_test))\n",
    "\n"
   ]
  },
  {
   "cell_type": "code",
   "execution_count": 19,
   "id": "512739a2",
   "metadata": {},
   "outputs": [
    {
     "name": "stdout",
     "output_type": "stream",
     "text": [
      "Confusion matrix, without normalization\n",
      "[[7398 3570]\n",
      " [ 421  968]]\n",
      "Normalized confusion matrix\n",
      "[[0.67450766 0.32549234]\n",
      " [0.30309575 0.69690425]]\n"
     ]
    },
    {
     "data": {
      "image/png": "[encoded data removed]",
      "text/plain": [
       "<Figure size 432x288 with 2 Axes>"
      ]
     },
     "metadata": {
      "needs_background": "light"
     },
     "output_type": "display_data"
    },
    {
     "data": {
      "image/png": "[encoded data removed]",
      "text/plain": [
       "<Figure size 432x288 with 2 Axes>"
      ]
     },
     "metadata": {
      "needs_background": "light"
     },
     "output_type": "display_data"
    }
   ],
   "source": [
    "# Plot non-normalized confusion matrix\n",
    "titles_options = [(\"Confusion matrix, without normalization\", None),\n",
    "                  (\"Normalized confusion matrix\", 'true')]\n",
    "for title, normalize in titles_options:\n",
    "    disp = plot_confusion_matrix(gs_svm, X_test, y_test,\n",
    "                                 cmap=plt.cm.Blues,\n",
    "                                 normalize=normalize)\n",
    "    disp.ax_.set_title(title)\n",
    "\n",
    "    print(title)\n",
    "    print(disp.confusion_matrix)\n",
    "\n",
    "plt.show()\n"
   ]
  },
  {
   "cell_type": "markdown",
   "id": "fa30d8bc",
   "metadata": {},
   "source": [
    "# Random Forest"
   ]
  },
  {
   "cell_type": "code",
   "execution_count": 20,
   "id": "f0aa79c1",
   "metadata": {},
   "outputs": [
    {
     "name": "stdout",
     "output_type": "stream",
     "text": [
      "Train Accuracy:   97.2%\n",
      "Test Accuracy:    80.5%\n"
     ]
    }
   ],
   "source": [
    "rf= RandomForestClassifier(random_state=1)\n",
    "\n",
    "# grid searh to choose the best (combination of) hyperparameters\n",
    "pg_rf={'n_estimators': [100,200,400],'max_depth': [20,40,50,60]}\n",
    "\n",
    "gs_rf=GridSearchCV(estimator= rf,\n",
    "               param_grid= pg_rf,\n",
    "               scoring='accuracy',\n",
    "               cv=4)\n",
    "\n",
    "# nested cross validation combining grid search (inner loop) and k-fold cv (outter loop)\n",
    "gs_rf_scores = cross_val_score(gs_rf, X=X_train, y=y_train, cv=5,scoring='accuracy', n_jobs=-1)\n",
    "\n",
    "# fit, and fit with best estimator\n",
    "gs_rf.fit(X_train, y_train)\n",
    "gs_rf_best=gs_rf.best_estimator_\n",
    "gs_rf_best.fit(X_train, y_train)\n",
    "\n",
    "print('Train Accuracy:   {0:.1f}%'.format(gs_rf.score(X_train, y_train)*100))\n",
    "print('Test Accuracy:    {0:.1f}%'.format(gs_rf.score(X_test, y_test)*100))"
   ]
  },
  {
   "cell_type": "code",
   "execution_count": 21,
   "id": "604b1e1d",
   "metadata": {},
   "outputs": [
    {
     "name": "stdout",
     "output_type": "stream",
     "text": [
      "[[9073  512]\n",
      " [1895  877]]\n",
      "              precision    recall  f1-score   support\n",
      "\n",
      "          no       0.83      0.95      0.88      9585\n",
      "         yes       0.63      0.32      0.42      2772\n",
      "\n",
      "    accuracy                           0.81     12357\n",
      "   macro avg       0.73      0.63      0.65     12357\n",
      "weighted avg       0.78      0.81      0.78     12357\n",
      "\n"
     ]
    }
   ],
   "source": [
    "#confusion_matrix and classification report\n",
    "ypreds=gs_rf_best.predict(X_test)\n",
    "print(confusion_matrix(ypreds ,y_test))\n",
    "print(classification_report(ypreds ,y_test))\n",
    "\n"
   ]
  },
  {
   "cell_type": "code",
   "execution_count": 22,
   "id": "cc55eca4",
   "metadata": {},
   "outputs": [
    {
     "data": {
      "image/png": "[encoded data removed]",
      "text/plain": [
       "<Figure size 432x288 with 1 Axes>"
      ]
     },
     "metadata": {
      "needs_background": "light"
     },
     "output_type": "display_data"
    }
   ],
   "source": [
    "# using random forest to get feature importances\n",
    "importances= gs_rf_best.feature_importances_\n",
    "feature_importances= pd.Series(importances, index=X_train.columns).sort_values(ascending=False)\n",
    "sns.barplot(x=feature_importances[0:10], y=feature_importances.index[0:10], palette=\"rocket\")\n",
    "sns.despine()\n",
    "plt.xlabel(\"Feature Importances\")\n",
    "plt.ylabel(\"Features\")\n",
    "plt.show()"
   ]
  },
  {
   "cell_type": "code",
   "execution_count": 23,
   "id": "43a5060f",
   "metadata": {},
   "outputs": [
    {
     "name": "stdout",
     "output_type": "stream",
     "text": [
      "Confusion matrix, without normalization\n",
      "[[9073 1895]\n",
      " [ 512  877]]\n",
      "Normalized confusion matrix\n",
      "[[0.82722465 0.17277535]\n",
      " [0.36861051 0.63138949]]\n"
     ]
    },
    {
     "data": {
      "image/png": "[encoded data removed]",
      "text/plain": [
       "<Figure size 432x288 with 2 Axes>"
      ]
     },
     "metadata": {
      "needs_background": "light"
     },
     "output_type": "display_data"
    },
    {
     "data": {
      "image/png": "[encoded data removed]",
      "text/plain": [
       "<Figure size 432x288 with 2 Axes>"
      ]
     },
     "metadata": {
      "needs_background": "light"
     },
     "output_type": "display_data"
    }
   ],
   "source": [
    "# Plot non-normalized confusion matrix\n",
    "titles_options = [(\"Confusion matrix, without normalization\", None),\n",
    "                  (\"Normalized confusion matrix\", 'true')]\n",
    "for title, normalize in titles_options:\n",
    "    disp = plot_confusion_matrix(gs_rf, X_test, y_test,\n",
    "                                 cmap=plt.cm.Blues,\n",
    "                                 normalize=normalize)\n",
    "    disp.ax_.set_title(title)\n",
    "\n",
    "    print(title)\n",
    "    print(disp.confusion_matrix)\n",
    "\n",
    "plt.show()\n"
   ]
  },
  {
   "cell_type": "markdown",
   "id": "6b0f823c",
   "metadata": {},
   "source": [
    "Age seems to be the biggest factor,but that is no surprise because the younger they can get a client, the longer they can do business with them over the course of their life.Volume is another factor, because we can see how important the number of employees to carry through the campaign is.That means to say that any decrease in the workforce would have negative effects to the marketing campaign. "
   ]
  },
  {
   "cell_type": "code",
   "execution_count": null,
   "id": "4c19764b",
   "metadata": {},
   "outputs": [],
   "source": []
  },
  {
   "cell_type": "markdown",
   "id": "e7b242e3",
   "metadata": {},
   "source": [
    "# Gradient Boosting \n"
   ]
  },
  {
   "cell_type": "code",
   "execution_count": 24,
   "id": "c606a09e",
   "metadata": {},
   "outputs": [
    {
     "name": "stdout",
     "output_type": "stream",
     "text": [
      "Train Accuracy:   99.5%\n",
      "Test Accuracy:    72.4%\n"
     ]
    }
   ],
   "source": [
    "# estimator\n",
    "xb= xgb.XGBClassifier(random_state=1)\n",
    "\n",
    "# grid searh to choose the best (combination of) hyperparameters\n",
    "pg_xb={'n_estimators':[100,200,400], 'max_depth':[20,40,50]}\n",
    "\n",
    "gs_xb=GridSearchCV(estimator= xb,\n",
    "               param_grid= pg_xb,\n",
    "               scoring='accuracy',\n",
    "               cv=4)\n",
    "\n",
    "# nested cross validation combining grid search (inner loop) and k-fold cv (outter loop)\n",
    "gs_xb_scores = cross_val_score(gs_xb, X=X_train, y=y_train, cv=5,scoring='accuracy', n_jobs=-1)\n",
    "\n",
    "# fit, and fit with best estimator\n",
    "gs_xb.fit(X_train, y_train)\n",
    "gs_xb_best=gs_xb.best_estimator_\n",
    "gs_xb_best.fit(X_train, y_train)\n",
    "\n",
    "print('Train Accuracy:   {0:.1f}%'.format(gs_xb.score(X_train, y_train)*100))\n",
    "print('Test Accuracy:    {0:.1f}%'.format(gs_xb.score(X_test, y_test)*100))\n"
   ]
  },
  {
   "cell_type": "code",
   "execution_count": 25,
   "id": "3c1e7d95",
   "metadata": {},
   "outputs": [
    {
     "name": "stdout",
     "output_type": "stream",
     "text": [
      "[[8034  479]\n",
      " [2934  910]]\n",
      "              precision    recall  f1-score   support\n",
      "\n",
      "          no       0.73      0.94      0.82      8513\n",
      "         yes       0.66      0.24      0.35      3844\n",
      "\n",
      "    accuracy                           0.72     12357\n",
      "   macro avg       0.69      0.59      0.59     12357\n",
      "weighted avg       0.71      0.72      0.68     12357\n",
      "\n"
     ]
    }
   ],
   "source": [
    "# using random forest results: confusion_matrix and classification report\n",
    "ypreds=gs_xb_best.predict(X_test)\n",
    "print(confusion_matrix(ypreds ,y_test))\n",
    "print(classification_report(ypreds ,y_test))\n"
   ]
  },
  {
   "cell_type": "code",
   "execution_count": 26,
   "id": "caef157f",
   "metadata": {},
   "outputs": [
    {
     "name": "stdout",
     "output_type": "stream",
     "text": [
      "Confusion matrix, without normalization\n",
      "[[8034 2934]\n",
      " [ 479  910]]\n",
      "Normalized confusion matrix\n",
      "[[0.73249453 0.26750547]\n",
      " [0.34485241 0.65514759]]\n"
     ]
    },
    {
     "data": {
      "image/png": "[encoded data removed]",
      "text/plain": [
       "<Figure size 432x288 with 2 Axes>"
      ]
     },
     "metadata": {
      "needs_background": "light"
     },
     "output_type": "display_data"
    },
    {
     "data": {
      "image/png": "[encoded data removed]",
      "text/plain": [
       "<Figure size 432x288 with 2 Axes>"
      ]
     },
     "metadata": {
      "needs_background": "light"
     },
     "output_type": "display_data"
    }
   ],
   "source": [
    "# Plot non-normalized confusion matrix\n",
    "titles_options = [(\"Confusion matrix, without normalization\", None),\n",
    "                  (\"Normalized confusion matrix\", 'true')]\n",
    "for title, normalize in titles_options:\n",
    "    disp = plot_confusion_matrix(gs_xb, X_test, y_test,\n",
    "                                 cmap=plt.cm.Blues,\n",
    "                                 normalize=normalize)\n",
    "    disp.ax_.set_title(title)\n",
    "\n",
    "    print(title)\n",
    "    print(disp.confusion_matrix)\n",
    "\n",
    "plt.show()"
   ]
  },
  {
   "cell_type": "code",
   "execution_count": null,
   "id": "aa0d6227",
   "metadata": {},
   "outputs": [],
   "source": []
  },
  {
   "cell_type": "code",
   "execution_count": null,
   "id": "efd53381",
   "metadata": {},
   "outputs": [],
   "source": []
  },
  {
   "cell_type": "code",
   "execution_count": null,
   "id": "1cc4f8db",
   "metadata": {},
   "outputs": [],
   "source": []
  },
  {
   "cell_type": "code",
   "execution_count": null,
   "id": "18d68905",
   "metadata": {},
   "outputs": [],
   "source": []
  },
  {
   "cell_type": "code",
   "execution_count": null,
   "id": "53cc014c",
   "metadata": {},
   "outputs": [],
   "source": []
  },
  {
   "cell_type": "code",
   "execution_count": null,
   "id": "376e6cbf",
   "metadata": {},
   "outputs": [],
   "source": []
  },
  {
   "cell_type": "code",
   "execution_count": null,
   "id": "d8f072ae",
   "metadata": {},
   "outputs": [],
   "source": []
  },
  {
   "cell_type": "code",
   "execution_count": null,
   "id": "86c093ac",
   "metadata": {},
   "outputs": [],
   "source": []
  },
  {
   "cell_type": "code",
   "execution_count": null,
   "id": "c187377c",
   "metadata": {},
   "outputs": [],
   "source": []
  },
  {
   "cell_type": "markdown",
   "id": "e10ba5b0",
   "metadata": {},
   "source": [
    "Reference #1  https://www.analyticssteps.com/blogs/how-does-support-vector-machine-algorithm-works-machine-learning "
   ]
  },
  {
   "cell_type": "markdown",
   "id": "ac97a800",
   "metadata": {},
   "source": [
    "https://www.analyticsvidhya.com/blog/2020/07/10-techniques-to-deal-with-class-imbalance-in-machine-learning/"
   ]
  },
  {
   "cell_type": "code",
   "execution_count": null,
   "id": "c9e6df89",
   "metadata": {},
   "outputs": [],
   "source": []
  }
 ],
 "metadata": {
  "kernelspec": {
   "display_name": "Python 3",
   "language": "python",
   "name": "python3"
  },
  "language_info": {
   "codemirror_mode": {
    "name": "ipython",
    "version": 3
   },
   "file_extension": ".py",
   "mimetype": "text/x-python",
   "name": "python",
   "nbconvert_exporter": "python",
   "pygments_lexer": "ipython3",
   "version": "3.7.7"
  }
 },
 "nbformat": 4,
 "nbformat_minor": 5
}
